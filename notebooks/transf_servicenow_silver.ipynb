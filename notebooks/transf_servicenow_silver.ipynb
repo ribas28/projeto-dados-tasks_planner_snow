{
 "cells": [
  {
   "cell_type": "code",
   "execution_count": 0,
   "metadata": {
    "application/vnd.databricks.v1+cell": {
     "cellMetadata": {
      "byteLimit": 2048000,
      "rowLimit": 10000
     },
     "collapsed": true,
     "inputWidgets": {},
     "nuid": "e3386718-765a-4b74-a778-484ab1341cc2",
     "showTitle": false,
     "tableResultSettingsMap": {},
     "title": ""
    }
   },
   "outputs": [],
   "source": [
    "# Data lake V2\n",
    "storage_account_name = \"sttpsnown3ebsfdbvgp3o\"\n",
    "\n",
    "# Passando secret scope\n",
    "secret_scope_name = \"kv-scope-tpsnow\"\n",
    "\n",
    "# Criando componentes da autenticação\n",
    "client_id = dbutils.secrets.get(scope=secret_scope_name, key=\"databricks-sp-client-id\")\n",
    "tenant_id = dbutils.secrets.get(scope=secret_scope_name, key=\"databricks-sp-tenant-id\")\n",
    "client_secret = dbutils.secrets.get(scope=secret_scope_name, key=\"databricks-sp-secret\")\n",
    "\n",
    "# Configurando a sessão do Spark para autenticação\n",
    "spark.conf.set(f\"fs.azure.account.auth.type.{storage_account_name}.dfs.core.windows.net\", \"OAuth\")\n",
    "spark.conf.set(f\"fs.azure.account.oauth.provider.type.{storage_account_name}.dfs.core.windows.net\", \"org.apache.hadoop.fs.azurebfs.oauth2.ClientCredsTokenProvider\")\n",
    "spark.conf.set(f\"fs.azure.account.oauth2.client.id.{storage_account_name}.dfs.core.windows.net\", client_id)\n",
    "spark.conf.set(f\"fs.azure.account.oauth2.client.secret.{storage_account_name}.dfs.core.windows.net\", client_secret)\n",
    "spark.conf.set(f\"fs.azure.account.oauth2.client.endpoint.{storage_account_name}.dfs.core.windows.net\", f\"https://login.microsoftonline.com/{tenant_id}/oauth2/token\")"
   ]
  },
  {
   "cell_type": "code",
   "execution_count": 0,
   "metadata": {
    "application/vnd.databricks.v1+cell": {
     "cellMetadata": {
      "byteLimit": 2048000,
      "rowLimit": 10000
     },
     "collapsed": true,
     "inputWidgets": {},
     "nuid": "b29d8291-049f-4986-bcd7-c6ae350eb322",
     "showTitle": false,
     "tableResultSettingsMap": {},
     "title": ""
    }
   },
   "outputs": [],
   "source": [
    "# Célula 2 ATUALIZADA - Lendo da Tabela do Unity Catalog \n",
    "\n",
    "tabela_bronze_uc = \"catalogo_bronze.servicenow.pm_project\"\n",
    "\n",
    "print(f\"Lendo dados da tabela do Unity Catalog: {tabela_bronze_uc}\")\n",
    "\n",
    "df_bronze = spark.read.table(tabela_bronze_uc)\n",
    "df_bronze_amostra = df_bronze.limit(10)\n",
    "\n",
    "print(\"Leitura da camada bronze concluída. Exibindo uma amostra de 10 registros:\")\n",
    "display(df_bronze_amostra)"
   ]
  },
  {
   "cell_type": "code",
   "execution_count": 0,
   "metadata": {
    "application/vnd.databricks.v1+cell": {
     "cellMetadata": {
      "byteLimit": 2048000,
      "rowLimit": 10000
     },
     "collapsed": true,
     "inputWidgets": {},
     "nuid": "8f43875e-07c0-4936-9dda-eaf70fbebf28",
     "showTitle": false,
     "tableResultSettingsMap": {},
     "title": ""
    }
   },
   "outputs": [],
   "source": [
    "from pyspark.sql.functions import col, to_timestamp, to_date\n",
    "\n",
    "print(\"Iniciando transformação dos dados...\")\n",
    "\n",
    "df_silver = df_bronze.select(\n",
    "    col(\"number\").alias(\"id_projeto\"),\n",
    "    col(\"short_description\").alias(\"nome_projeto\"),\n",
    "    col(\"project_manager\").alias(\"gerente_projeto\"),\n",
    "    col(\"state\").alias(\"estado_projeto\"),\n",
    "    to_timestamp(col(\"sys_created_on\")).alias(\"data_criacao_utc\"),\n",
    "    to_date(col(\"start_date\")).alias(\"data_inicio\"),\n",
    "    to_date(col(\"end_date\")).alias(\"data_fim\"),\n",
    "    col(\"work_cost\").cast(\"decimal(18, 2)\").alias(\"custo_trabalho\"),\n",
    ")\n",
    "\n",
    "print(\"Transformação concluída:\")\n",
    "display(df_silver)"
   ]
  },
  {
   "cell_type": "code",
   "execution_count": 0,
   "metadata": {
    "application/vnd.databricks.v1+cell": {
     "cellMetadata": {
      "byteLimit": 2048000,
      "rowLimit": 10000
     },
     "collapsed": true,
     "inputWidgets": {},
     "nuid": "288aecd1-556c-43c5-b8c6-dd99340b6209",
     "showTitle": false,
     "tableResultSettingsMap": {},
     "title": ""
    }
   },
   "outputs": [],
   "source": [
    "# salva na camada silver\n",
    "\n",
    "silver_path = f\"abfss://silver@{storage_account_name}.dfs.core.windows.net/servicenow/projetos\"\n",
    "\n",
    "print(f\"Salvando dados transformados na camada silver em: {silver_path}\")\n",
    "\n",
    "df_silver.write.format(\"delta\").mode(\"overwrite\").option(\"overwriteSchema\", \"true\").save(silver_path)\n",
    "\n",
    "spark.sql(f\"CREATE TABLE IF NOT EXISTS catalogo_silver.servicenow.projetos LOCATION '{silver_path}'\")\n",
    "\n",
    "print(\"Dados salvos com sucesso na camada silver e tabela registrada no catálogo!\")\n",
    "print(\"Verificando os dados lendo da nova tabela silver...\")\n",
    "display(spark.read.table(\"catalogo_silver.servicenow.projetos\"))"
   ]
  }
 ],
 "metadata": {
  "application/vnd.databricks.v1+notebook": {
   "computePreferences": null,
   "dashboards": [],
   "environmentMetadata": {
    "base_environment": "",
    "environment_version": "2"
   },
   "inputWidgetPreferences": null,
   "language": "python",
   "notebookMetadata": {
    "pythonIndentUnit": 4
   },
   "notebookName": "transf_servicenow_silver",
   "widgets": {}
  },
  "language_info": {
   "name": "python"
  }
 },
 "nbformat": 4,
 "nbformat_minor": 0
}
